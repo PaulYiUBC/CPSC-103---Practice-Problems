{
 "cells": [
  {
   "cell_type": "markdown",
   "metadata": {},
   "source": [
    "# CPSC 103 Sample Final 2017W2 Practice Questions\n",
    "\n",
    "Hello Everyone! \n",
    "\n",
    "Below are questions/solutions/comments from or based on the CPSC 103 Sample Final 2017W2 PDF. The questions/solutions have been formated into a Jupyter notebook to provide broader accessibility and comprehensive practice as more assessments shift online. \n",
    "\n",
    "It is highly recommended that you attempt the questions before looking at the solutions (or running the code for some problems). In addition, it is encouraged that you attempt the questions in a limited time period to simulate test conditions. \n",
    "\n",
    "# Disclaimer \n",
    "\n",
    "Please be aware that this file was based on course materials from the 2019 Winter Semester. This file was not vetted by instructors or teaching assistants. Use at your own discretion. (Please comment if there are errors).  \n",
    "\n",
    "Please do not use this file as your sole method for studying but rather as a supplemental exercise after completing all in-course practice problems. This file is no substitute to the official course materials and instructor/TA-led reviews.  "
   ]
  },
  {
   "cell_type": "code",
   "execution_count": 1,
   "metadata": {},
   "outputs": [],
   "source": [
    "from cs103 import *\n",
    "from typing import NamedTuple, Optional, List\n",
    "from enum import Enum\n",
    "import csv\n",
    "from matplotlib import pyplot"
   ]
  },
  {
   "cell_type": "markdown",
   "metadata": {},
   "source": [
    "# Problem 1\n",
    "\n",
    "For each fo the following code snippets, write the value that is stored by the variable on the last line after the code snippet has been run. "
   ]
  },
  {
   "cell_type": "code",
   "execution_count": 2,
   "metadata": {},
   "outputs": [
    {
     "data": {
      "text/plain": [
       "2"
      ]
     },
     "execution_count": 2,
     "metadata": {},
     "output_type": "execute_result"
    }
   ],
   "source": [
    "# Part A\n",
    "\n",
    "def times_three(x):\n",
    "    return x*3\n",
    "\n",
    "n=2\n",
    "times_three(n)\n",
    "n\n"
   ]
  },
  {
   "cell_type": "code",
   "execution_count": 3,
   "metadata": {},
   "outputs": [
    {
     "data": {
      "text/plain": [
       "2"
      ]
     },
     "execution_count": 3,
     "metadata": {},
     "output_type": "execute_result"
    }
   ],
   "source": [
    "# Part B\n",
    "\n",
    "x = 2\n",
    "y = 3\n",
    "t = x \n",
    "x = y\n",
    "y = t\n",
    "y\n",
    "\n"
   ]
  },
  {
   "cell_type": "code",
   "execution_count": 4,
   "metadata": {},
   "outputs": [
    {
     "data": {
      "text/plain": [
       "False"
      ]
     },
     "execution_count": 4,
     "metadata": {},
     "output_type": "execute_result"
    }
   ],
   "source": [
    "# Part C\n",
    "\n",
    "def are_equal(x, y):\n",
    "    return x == y\n",
    "\n",
    "\n",
    "x = 1\n",
    "a = 3\n",
    "y = 1\n",
    "n = are_equal(a, y)\n",
    "n\n",
    "\n"
   ]
  },
  {
   "cell_type": "code",
   "execution_count": 5,
   "metadata": {},
   "outputs": [
    {
     "data": {
      "text/plain": [
       "3"
      ]
     },
     "execution_count": 5,
     "metadata": {},
     "output_type": "execute_result"
    }
   ],
   "source": [
    "# Part D\n",
    "\n",
    "a = 2\n",
    "b = 3\n",
    "a = b\n",
    "b = b + 1\n",
    "a\n"
   ]
  },
  {
   "cell_type": "markdown",
   "metadata": {},
   "source": [
    "# Problem 2\n",
    "\n",
    "When you're designing a function that takes a user-defined type (i.e. a type that is defined by a data definition, not by Python), in which steps of the How to Design Functions recipe do you need to consult the data definition? For each step in which you do need to consult the data definition, which part(s) of the data definition are you consulting and why?\n",
    "\n",
    "| Part | Step           | Do you need to consult the data defintion? (yes/no/it depends) | Which part(s) of the data definition are you cosulting? | Why do you need to consult this part (or these parts)? |\n",
    "|-----|--------------------|-------|---------|-------|\n",
    "|   A | signature          |       |         |       |\n",
    "|   C | examples           |       |         |       |\n",
    "|   D | template           |       |         |       |\n",
    "|   E | function body      |       |         |       |"
   ]
  },
  {
   "cell_type": "code",
   "execution_count": null,
   "metadata": {},
   "outputs": [],
   "source": []
  },
  {
   "cell_type": "markdown",
   "metadata": {},
   "source": [
    "# Problem 3\n",
    "\n",
    "Design a function that takes two strings and returns True if they have the same length."
   ]
  },
  {
   "cell_type": "markdown",
   "metadata": {},
   "source": [
    "# Problem 4\n",
    "\n",
    "Your friend has decided to start tracking their expenses so that they can create a budget. Here are the first few rows of the .csv file that your friend has been using to track the expenses.\n",
    "\n",
    "\n",
    "| Expense | Category              |     Payment  |      Amount   |\n",
    "|-----|--------------------|-------|---------|\n",
    "|   coffee | food          |    cash   |    1.95     |       \n",
    "|   theatre tickets | entertainment      |   credit card    |     88.40    |       \n",
    "|   rent | bills           |   cheque    |    580.00     |       \n",
    "|   groceries | food      |    debit card   |   54.10      |       \n",
    "\n",
    "There are many, many different categories (including ones not shown above) and your friend is likely to continue to create more categories over time. Your friend only uses cash, credit card, cheque, or debit card to pay for things.\n",
    "\n",
    "Design data definitions to represent all of the information as data in your program.\n",
    "\n"
   ]
  },
  {
   "cell_type": "code",
   "execution_count": null,
   "metadata": {},
   "outputs": [],
   "source": []
  },
  {
   "cell_type": "code",
   "execution_count": 6,
   "metadata": {},
   "outputs": [],
   "source": [
    "#Bonus question 4a\n",
    "\n",
    "#Write a read function that would correctly parse the inforation from the expense .csv file mentioned in Problem 4. \n",
    "#The read function would need to take into the consideration the data definitions you designed in the first part of the question.\n",
    "#The following files are provided: \"expenses.csv\", \"expenses_test0.csv\", \"expenses_test1.csv\"\n"
   ]
  },
  {
   "cell_type": "code",
   "execution_count": 7,
   "metadata": {},
   "outputs": [],
   "source": [
    "#Bonus question 4b\n",
    "\n",
    "#Your friend wants to make sure his bank's credit card statement balance matches what his self-reported expenses have shown\n",
    "#Your friend asks you to write a function that provides the total amount of credit card purchases in their expenses list. \n",
    "#Utilizing the work you already completd for problem 4, write a function to solve your friend's question based on the HtDAP template. \n"
   ]
  },
  {
   "cell_type": "markdown",
   "metadata": {},
   "source": [
    "# Problem 5\n",
    "\n",
    "We could write a correct program (i.e. a program that works as expected) that does not follow the helper rules. Why is it important to follow the helper rules when you design programs? Give one concrete reason and justify your answer. "
   ]
  },
  {
   "cell_type": "code",
   "execution_count": null,
   "metadata": {},
   "outputs": [],
   "source": []
  },
  {
   "cell_type": "markdown",
   "metadata": {},
   "source": [
    "# Problem 6\n",
    "\n",
    "You have snow reports from your favourite mountain in the following form:\n",
    "\n",
    "| Date | Temperature    |     Visibility  |  Freezing Altitude   | Base Snow  | New Snow  |\n",
    "|-----|--------------------|-------|---------|---------|---------|\n",
    "|   19-Apr-17 | -2          |    21.2   |    1700     |  370  | 4  |     \n",
    "|   20-Apr-17 | -3.2      |   4.7   |     1750    |   374  | 2  |    \n",
    "|   21-Apr-17 | 1.8           |   18.3    |    1750     |  376   |   8  |\n",
    "|   22-Apr-17 | 0.3      |    9.0   |   1750      |    384  | 13  |  \n",
    "\n",
    "\n",
    "This information is available in csv format in the file snow_report.csv. Here are data definitions that can be used to represent the relevant parts of this information as data in your program.\n"
   ]
  },
  {
   "cell_type": "code",
   "execution_count": 8,
   "metadata": {},
   "outputs": [],
   "source": [
    "SnowReport = NamedTuple('SnowReport', [('temp', float), \n",
    "                                       ('vis', float), # in range [0, ...)\n",
    "                                       ('base', int), # in range [0, ...)\n",
    "                                       ('new', int)]) # in range [0, ...)\n",
    "\n",
    "# interp. an alpine snow report with its temperature ('temp') in degrees Celsius, \n",
    "# visibility ('vis') in kilometres, snow base ('base') in cm, and amount of \n",
    "# snow in the last 24 hours ('new') in cm\n",
    "\n",
    "SR1 = SnowReport(-2.0, 21.2, 370, 4)\n",
    "SR2 = SnowReport(-3.2, 4.7, 374, 2)\n",
    "SR3 = SnowReport(1.8, 18.3, 376, 8)\n",
    "SR4 = SnowReport(0.3, 9.0, 384, 13)\n",
    "\n",
    "# template based on compound \n",
    "def fn_for_snow_report(sr: SnowReport) -> ...:\n",
    "    return ...(sr.temp, \n",
    "               sr.vis, \n",
    "               sr.base, \n",
    "               sr.new)\n",
    "\n",
    "# List[SnowReport] \n",
    "# interp. a list of snow reports\n",
    "\n",
    "L1 = []\n",
    "L2 = [SR1, SR2]\n",
    "\n",
    "# template based on arbitrary-sized and the reference rule \n",
    "def fn_for_losr(losr: List[SnowReport]) -> ...:\n",
    "\n",
    "# description of the acc \n",
    "    acc = ... # type: ...\n",
    "    for sr in losr:\n",
    "        acc = ...(acc, fn_for_snow_report(sr)) \n",
    "    return acc"
   ]
  },
  {
   "cell_type": "markdown",
   "metadata": {},
   "source": [
    "# Problem 6 Continued\n",
    "\n",
    "Continuing Problem 6: Design a read function to read this information from a file and store it as data in your program. We have provided the read template and suggest that you neatly edit it rather than re-writing your read function. Assume that the information is in a file named “snow_report.csv”. If you need to create another information file, you can draw a table that shows the information (as above) and label it with the filename.\n",
    "\n",
    "The following additional files are provided: \"snow_report_test0.csv\" and \"snow_report_test1.csv\""
   ]
  },
  {
   "cell_type": "code",
   "execution_count": null,
   "metadata": {},
   "outputs": [],
   "source": []
  },
  {
   "cell_type": "markdown",
   "metadata": {},
   "source": [
    "# Problem 7\n",
    "\n",
    "Design a function that takes a list of snow reports and returns the average snow base. (You must use the data definitions from Problem 6.)\n"
   ]
  },
  {
   "cell_type": "code",
   "execution_count": null,
   "metadata": {},
   "outputs": [],
   "source": []
  },
  {
   "cell_type": "markdown",
   "metadata": {},
   "source": [
    "# Problem 8\n",
    "\n",
    "Design a function that takes a list of snow reports and plots a line chart of the snow base over time.\n",
    "\n",
    "You can assume that the reports are in the order in which they should be plotted. You can assume that the function get_range, as described below by its signature and purpose, is fully implemented and works correctly. (Again, you must use the data definitions from Problem 6.)\n"
   ]
  },
  {
   "cell_type": "code",
   "execution_count": 9,
   "metadata": {},
   "outputs": [
    {
     "name": "stdout",
     "output_type": "stream",
     "text": [
      "\u001b[92m3 of 3 tests passed\u001b[0m\n"
     ]
    }
   ],
   "source": [
    "@typecheck\n",
    "def get_range(n: int) -> List[int]:\n",
    "\n",
    "    \"\"\"\n",
    "    returns a list of the first n integers \n",
    "    \"\"\"\n",
    "    #[] #stub\n",
    "    #template based on atomic distinct, non-distinct\n",
    "    \n",
    "    if n == 0:\n",
    "        return [0]\n",
    "    return list(range(1, (n+1)))\n",
    "    \n",
    "start_testing()\n",
    "\n",
    "expect(get_range(0), [0])\n",
    "expect(get_range(5), [1, 2, 3, 4, 5])\n",
    "expect(get_range(3), [1, 2, 3])\n",
    "                \n",
    "summary()"
   ]
  },
  {
   "cell_type": "code",
   "execution_count": null,
   "metadata": {},
   "outputs": [],
   "source": []
  }
 ],
 "metadata": {
  "kernelspec": {
   "display_name": "Python 3",
   "language": "python",
   "name": "python3"
  },
  "language_info": {
   "codemirror_mode": {
    "name": "ipython",
    "version": 3
   },
   "file_extension": ".py",
   "mimetype": "text/x-python",
   "name": "python",
   "nbconvert_exporter": "python",
   "pygments_lexer": "ipython3",
   "version": "3.7.4"
  }
 },
 "nbformat": 4,
 "nbformat_minor": 2
}
